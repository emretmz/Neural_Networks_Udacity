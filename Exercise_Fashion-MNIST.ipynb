{
 "cells": [
  {
   "cell_type": "markdown",
   "metadata": {},
   "source": [
    "# Classifying Fashion-MNIST\n",
    "\n",
    "Now it's your turn to build and train a neural network. You'll be using the [Fashion-MNIST dataset](https://github.com/zalandoresearch/fashion-mnist), a drop-in replacement for the MNIST dataset. MNIST is actually quite trivial with neural networks where you can easily achieve better than 97% accuracy. Fashion-MNIST is a set of 28x28 greyscale images of clothes. It's more complex than MNIST, so it's a better representation of the actual performance of your network, and a better representation of datasets you'll use in the real world.\n",
    "\n",
    "<img src='assets/fashion-mnist-sprite.png' width=500px>\n",
    "\n",
    "In this notebook, you'll build your own neural network. For the most part, you could just copy and paste the code from Part 3, but you wouldn't be learning. It's important for you to write the code yourself and get it to work. Feel free to consult the previous notebook though as you work through this.\n",
    "\n",
    "First off, let's load the dataset through torchvision."
   ]
  },
  {
   "cell_type": "markdown",
   "metadata": {},
   "source": [
    "Here we can see one of the images."
   ]
  },
  {
   "cell_type": "code",
   "execution_count": 26,
   "metadata": {},
   "outputs": [],
   "source": [
    "import torch\n",
    "from torchvision import datasets, transforms\n",
    "import helper\n",
    "####\n",
    "%matplotlib inline\n",
    "%config InlineBackend.figure_format = 'retina'\n",
    "import matplotlib.pyplot as plt\n",
    "import numpy as np\n",
    "import time\n",
    "import torch\n",
    "from torch import nn\n",
    "from torch import optim\n",
    "import torch.nn.functional as F\n",
    "from torchvision import datasets, transforms\n",
    "import helper"
   ]
  },
  {
   "cell_type": "code",
   "execution_count": 27,
   "metadata": {},
   "outputs": [
    {
     "name": "stdout",
     "output_type": "stream",
     "text": [
      "Epoch 1/5 - Loss: 0.999720632902849\n",
      "Epoch 2/5 - Loss: 0.5530387288980139\n",
      "Epoch 3/5 - Loss: 0.48591215451007713\n",
      "Epoch 4/5 - Loss: 0.4513020441412672\n",
      "Epoch 5/5 - Loss: 0.4282087372468987\n"
     ]
    },
    {
     "data": {
      "text/plain": [
       "<matplotlib.figure.Figure at 0x7fba603694a8>"
      ]
     },
     "metadata": {
      "image/png": {
       "height": 233,
       "width": 233
      },
      "needs_background": "light"
     },
     "output_type": "display_data"
    },
    {
     "data": {
      "image/png": "[encoded data removed]",
      "text/plain": [
       "<matplotlib.figure.Figure at 0x7fba606825c0>"
      ]
     },
     "metadata": {
      "image/png": {
       "height": 204,
       "width": 423
      },
      "needs_background": "light"
     },
     "output_type": "display_data"
    }
   ],
   "source": [
    "# Define a transform to normalize the data\n",
    "transform = transforms.Compose([transforms.ToTensor(),\n",
    "                                transforms.Normalize((0.5, 0.5, 0.5), (0.5, 0.5, 0.5))])\n",
    "# Download and load the training data\n",
    "trainset = datasets.FashionMNIST('F_MNIST_data/', download=True, train=True, transform=transform)\n",
    "trainloader = torch.utils.data.DataLoader(trainset, batch_size=64, shuffle=True)\n",
    "# Download and load the test data\n",
    "testset = datasets.FashionMNIST('F_MNIST_data/', download=True, train=False, transform=transform)\n",
    "testloader = torch.utils.data.DataLoader(testset, batch_size=64, shuffle=True)\n",
    "#See items\n",
    "image, label = next(iter(trainloader))\n",
    "helper.imshow(image[0,:]);\n",
    "\n",
    "#Build Neural Network\n",
    "\"\"\"Here you should define your network. As with MNIST, each image is 28x28 which is a total of 784 pixels, \n",
    "and there are 10 classes. You should include at least one hidden layer. We suggest you use ReLU activations \n",
    "for the layers and to return the logits from the forward pass. It's up to you how many layers you add and the \n",
    "size of those layers.\"\"\"\n",
    "# TODO: Define your network architecture here\n",
    "import torch.nn as nn\n",
    "import torch.nn.functional as F\n",
    "\n",
    "# Define the network architecture\n",
    "class FashionMNISTNet(nn.Module):\n",
    "    def __init__(self):\n",
    "        super(FashionMNISTNet, self).__init__()\n",
    "        self.fc1 = nn.Linear(784, 256)  # Input size: 784 (28x28), Output size: 256\n",
    "        self.fc2 = nn.Linear(256, 128)  # Input size: 256, Output size: 128\n",
    "        self.fc3 = nn.Linear(128, 10)   # Input size: 128, Output size: 10 (10 classes)\n",
    "\n",
    "    def forward(self, x):\n",
    "        x = x.view(x.shape[0], -1)     # Flatten the input image\n",
    "        x = F.relu(self.fc1(x))       # Apply ReLU activation to the first hidden layer\n",
    "        x = F.relu(self.fc2(x))       # Apply ReLU activation to the second hidden layer\n",
    "        x = self.fc3(x)               # Output layer, no activation function\n",
    "        return x\n",
    "\n",
    "#Train Network\n",
    "\"\"\"Now you should create your network and train it. First you'll want to define the criterion \n",
    "( something like nn.CrossEntropyLoss) and the optimizer (typically optim.SGD or optim.Adam).\n",
    "\n",
    "Then write the training code. Remember the training pass is a fairly straightforward process:\n",
    "\n",
    "Make a forward pass through the network to get the logits\n",
    "Use the logits to calculate the loss\n",
    "Perform a backward pass through the network with loss.backward() to calculate the gradients\n",
    "Take a step with the optimizer to update the weights\n",
    "By adjusting the hyperparameters (hidden units, learning rate, etc), you should be able to get the training loss below 0.4.\"\"\"\n",
    "# Create the network\n",
    "model = FashionMNISTNet()\n",
    "# Define the criterion (loss function)\n",
    "criterion = nn.CrossEntropyLoss()\n",
    "# Define the optimizer (SGD in this case, you can experiment with other optimizers like Adam)\n",
    "optimizer = optim.SGD(model.parameters(), lr=0.01)\n",
    "# Set the number of epochs for training\n",
    "epochs = 5\n",
    "\n",
    "# Move the model to the appropriate device (CPU or GPU if available)\n",
    "device = torch.device(\"cuda\" if torch.cuda.is_available() else \"cpu\")\n",
    "model.to(device)\n",
    "\n",
    "for e in range(epochs):\n",
    "    running_loss = 0\n",
    "    for images, labels in trainloader:\n",
    "        # Move images and labels to the device\n",
    "        images, labels = images.to(device), labels.to(device)\n",
    "        # Clear gradients\n",
    "        optimizer.zero_grad()\n",
    "        # Forward pass\n",
    "        logits = model(images)\n",
    "        # Calculate the loss\n",
    "        loss = criterion(logits, labels)\n",
    "        # Backward pass\n",
    "        loss.backward()\n",
    "        # Update weights\n",
    "        optimizer.step()\n",
    "        \n",
    "        running_loss += loss.item()\n",
    "        \n",
    "    print(f\"Epoch {e+1}/{epochs} - Loss: {running_loss/len(trainloader)}\")\n",
    "\n",
    "# Test out your network!\n",
    "dataiter = iter(testloader)\n",
    "images, labels = dataiter.next()\n",
    "img = images[0]\n",
    "\n",
    "# Convert 2D image to 1D vector\n",
    "img = img.view(1, 784)\n",
    "\n",
    "# Calculate the class probabilities (softmax) for img\n",
    "with torch.no_grad():\n",
    "    img = img.to(device)  # Move the image to the appropriate device\n",
    "    logits = model(img)\n",
    "    ps = F.softmax(logits, dim=1)\n",
    "\n",
    "# Plot the image and probabilities\n",
    "helper.view_classify(img.view(1, 28, 28), ps, version='Fashion')"
   ]
  },
  {
   "cell_type": "markdown",
   "metadata": {},
   "source": [
    "Now that your network is trained, you'll want to save it to disk so you can load it later instead of training it again. Obviously, it's impractical to train a network every time you need one. In practice, you'll train it once, save the model, then reload it for further training or making predictions. In the next part, I'll show you how to save and load trained models."
   ]
  }
 ],
 "metadata": {
  "kernelspec": {
   "display_name": "Python 3",
   "language": "python",
   "name": "python3"
  },
  "language_info": {
   "codemirror_mode": {
    "name": "ipython",
    "version": 3
   },
   "file_extension": ".py",
   "mimetype": "text/x-python",
   "name": "python",
   "nbconvert_exporter": "python",
   "pygments_lexer": "ipython3",
   "version": "3.6.3"
  }
 },
 "nbformat": 4,
 "nbformat_minor": 2
}
